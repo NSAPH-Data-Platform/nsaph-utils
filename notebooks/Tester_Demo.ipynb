{
 "cells": [
  {
   "cell_type": "code",
   "execution_count": 1,
   "id": "optimum-wisdom",
   "metadata": {},
   "outputs": [],
   "source": [
    "from nsaph_utils.qc.tester import Tester, Test, Condition\n",
    "import pandas as pd\n",
    "import numpy as np"
   ]
  },
  {
   "cell_type": "code",
   "execution_count": 2,
   "id": "vanilla-costs",
   "metadata": {},
   "outputs": [],
   "source": [
    "x = Tester(\"my_tester\")"
   ]
  },
  {
   "cell_type": "code",
   "execution_count": 3,
   "id": "textile-thirty",
   "metadata": {},
   "outputs": [],
   "source": [
    "x.load_yaml(\"test_list.yml\")"
   ]
  },
  {
   "cell_type": "code",
   "execution_count": 4,
   "id": "editorial-technique",
   "metadata": {},
   "outputs": [
    {
     "name": "stdout",
     "output_type": "stream",
     "text": [
      "{'variable': 'x', 'condition': <Condition.greater_than: 'gt'>, 'val': 69, 'severity': <Severity.debug: 1>, 'name': 'test_1', 'expectation': 'test_1:debug: For variable x: all values greater than 69'}\n",
      "{'variable': 'y', 'condition': <Condition.data_type: 'dtype'>, 'val': 'str', 'severity': <Severity.warning: 3>, 'name': 'y_dtype_str', 'expectation': 'y_dtype_str:warning: For variable y: all values are str'}\n",
      "{'variable': 'w', 'condition': <Condition.no_missing: 'no_nan'>, 'val': None, 'severity': <Severity.info: 2>, 'name': 'w_no_nan', 'expectation': 'w_no_nan:info: For variable w: no missing values'}\n",
      "{'variable': 'z', 'condition': <Condition.count_missing: 'count_nan'>, 'val': 99, 'severity': <Severity.error: 4>, 'name': 'z_count_nan_99', 'expectation': 'z_count_nan_99:error: For variable z: less than 99 values missing'}\n",
      "{'variable': 'z', 'condition': <Condition.count_missing: 'count_nan'>, 'val': 0.45, 'severity': <Severity.info: 2>, 'name': 'pct_missing_check', 'expectation': 'pct_missing_check:info: For variable z: less than 45.00% missing'}\n"
     ]
    }
   ],
   "source": [
    "for i in x.tests:\n",
    "    print(i.__dict__)"
   ]
  },
  {
   "cell_type": "code",
   "execution_count": 5,
   "id": "adapted-nomination",
   "metadata": {},
   "outputs": [],
   "source": [
    "test_df = pd.DataFrame({\"x\": [a for a in range(100)],\n",
    "          \"y\": [\"a\" for b in range(100, 0, -1)],\n",
    "                       \"z\": [np.nan for a in range(100)],\n",
    "                       \"w\": [1 for a in range(100)]})\n",
    "test_df.loc[45, \"w\"] = np.nan"
   ]
  },
  {
   "cell_type": "code",
   "execution_count": 6,
   "id": "educational-impossible",
   "metadata": {},
   "outputs": [
    {
     "data": {
      "text/plain": [
       "x     45\n",
       "y      a\n",
       "z    NaN\n",
       "w    NaN\n",
       "Name: 45, dtype: object"
      ]
     },
     "execution_count": 6,
     "metadata": {},
     "output_type": "execute_result"
    }
   ],
   "source": [
    "test_df.loc[45, :]"
   ]
  },
  {
   "cell_type": "code",
   "execution_count": 7,
   "id": "least-birth",
   "metadata": {
    "scrolled": true
   },
   "outputs": [
    {
     "name": "stdout",
     "output_type": "stream",
     "text": [
      "test_1:debug: For variable x: all values greater than 69. check failed. 30.00% of observations with invalid values.\n",
      "w_no_nan:info: For variable w: no missing values. check failed. 1.00% of observations with invalid values.\n",
      "z_count_nan_99:error: For variable z: less than 99 values missing. 100 missing values observed for z\n",
      "pct_missing_check:info: For variable z: less than 45.00% missing. 100.00% missing values observed for z\n"
     ]
    }
   ],
   "source": [
    "x.check(test_df)"
   ]
  },
  {
   "cell_type": "code",
   "execution_count": null,
   "id": "joined-scholar",
   "metadata": {},
   "outputs": [],
   "source": []
  }
 ],
 "metadata": {
  "kernelspec": {
   "display_name": "Python 3",
   "language": "python",
   "name": "python3"
  },
  "language_info": {
   "codemirror_mode": {
    "name": "ipython",
    "version": 3
   },
   "file_extension": ".py",
   "mimetype": "text/x-python",
   "name": "python",
   "nbconvert_exporter": "python",
   "pygments_lexer": "ipython3",
   "version": "3.9.1"
  }
 },
 "nbformat": 4,
 "nbformat_minor": 5
}
